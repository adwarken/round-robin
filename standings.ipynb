{
 "cells": [
  {
   "cell_type": "code",
   "execution_count": 1,
   "metadata": {
    "collapsed": true
   },
   "outputs": [],
   "source": [
    "# -*- coding: utf-8 -*-\n",
    "\"\"\"\n",
    "Created on Tue May 22 19:04:59 2018\n",
    "\n",
    "@author: amywar\n",
    "\"\"\"\n",
    "\n",
    "from graphics import *\n",
    "from numpy import pi\n",
    "import numpy as np\n",
    "import csv"
   ]
  },
  {
   "cell_type": "code",
   "execution_count": 2,
   "metadata": {
    "collapsed": true
   },
   "outputs": [],
   "source": [
    "def movePol(obj,center,radius,angle):\n",
    "    # Clone and move an object using polar coordinates\n",
    "    # around a center Point object\n",
    "    x0 = center.getX()\n",
    "    y0 = center.getY()\n",
    "    \n",
    "    try:\n",
    "        x1 = obj.getX()\n",
    "        y1 = obj.getY()\n",
    "    except AttributeError:\n",
    "        try:\n",
    "            objCenter = obj.getCenter()\n",
    "            x1 = objCenter.getX()\n",
    "            y1 = objCenter.getY()\n",
    "        except AttributeError:\n",
    "            print \"Bad object type\"\n",
    "            return\n",
    "    \n",
    "    theta = np.arctan2(y1 - y0, x1 - x0)\n",
    "    phi = theta + angle\n",
    "    R = radius + np.sqrt((x1 - x0)**2 + (y1 - y0)**2)\n",
    "    \n",
    "    x2 = x0 + R * np.cos(phi)\n",
    "    y2 = y0 + R * np.sin(phi)\n",
    "    \n",
    "    dx = x2 - x1\n",
    "    dy = y2 - y1\n",
    "    obj2 = obj.clone()\n",
    "    obj2.move(dx,dy)\n",
    "    return obj2"
   ]
  },
  {
   "cell_type": "code",
   "execution_count": 9,
   "metadata": {
    "collapsed": false
   },
   "outputs": [],
   "source": [
    "size = 500\n",
    "numTeams = 5\n",
    "colors = ['red', 'black', 'blue', 'white', 'orange']\n",
    "centp = Point(size/2,size/2)\n",
    "teamPts = []\n",
    "teamCirc = []\n",
    "goalCirc = []"
   ]
  },
  {
   "cell_type": "code",
   "execution_count": 4,
   "metadata": {
    "collapsed": false
   },
   "outputs": [],
   "source": [
    "points = np.zeros(numTeams)\n",
    "gd = np.zeros(numTeams)\n",
    "gf = np.zeros(numTeams)\n",
    "\n",
    "with open('results.csv') as csvfile:\n",
    "    reader = csv.reader(csvfile)\n",
    "    header = reader.next()\n",
    "    for row in reader:\n",
    "        teamA = int(row[0]) - 1\n",
    "        teamB = int(row[1]) - 1\n",
    "        scoreA = int(row[2])\n",
    "        scoreB = int(row[3])\n",
    "        \n",
    "        gd[teamA] = gd[teamA] + scoreA - scoreB\n",
    "        gd[teamB] = gd[teamB] + scoreB - scoreA\n",
    "        gf[teamA] = gf[teamA] + scoreA\n",
    "        gf[teamB] = gf[teamB] + scoreB\n",
    "        \n",
    "        if scoreA > scoreB:\n",
    "            points[teamA] = points[teamA] + 3\n",
    "        elif scoreB > scoreA:\n",
    "            points[teamB] = points[teamB] + 3\n",
    "        else:\n",
    "            points[teamA] = points[teamA] + 1\n",
    "            points[teamB] = points[teamB] + 1"
   ]
  },
  {
   "cell_type": "code",
   "execution_count": 5,
   "metadata": {
    "collapsed": false
   },
   "outputs": [],
   "source": [
    "rank = np.zeros(numTeams)\n",
    "for team in range(numTeams):\n",
    "    teamPoints = points[team]\n",
    "    above = len(points[points > teamPoints])\n",
    "    below = len(points[points < teamPoints])\n",
    "    \n",
    "    rank[team] = above + 1\n",
    "    \n",
    "    if (above + below) != (numTeams - 1):\n",
    "        teamGD = gd[team]\n",
    "        tieGD = gd[points == teamPoints]\n",
    "        tieGF = gf[points == teamPoints]\n",
    "        above = len(tieGD[tieGD > teamGD])\n",
    "        below = len(tieGD[tieGD < teamGD])\n",
    "        \n",
    "        rank[team] = rank[team] + above\n",
    "        \n",
    "        if (above + below) != (len(tieGD) - 1):\n",
    "            teamGF = gf[team]\n",
    "            tieGF = tieGF[tieGD == teamGD]\n",
    "            above = len(tieGF[tieGF > teamGF])\n",
    "            below = len(tieGF[tieGF < teamGF])\n",
    "            \n",
    "            rank[team] = rank[team] + above\n",
    "            \n",
    "            if (above + below) != (len(tieGF) - 1):\n",
    "                print 'Tiebreaking unsuccessful'"
   ]
  },
  {
   "cell_type": "code",
   "execution_count": 13,
   "metadata": {
    "collapsed": false
   },
   "outputs": [],
   "source": [
    "for i in range(numTeams):\n",
    "    angle = -0.5 + 2 / float(numTeams) * i\n",
    "    teamPts.append(movePol(centp,centp,0.35*size,angle*pi))\n",
    "    teamCirc.append(Circle(teamPts[i],size*0.075))\n",
    "    teamCirc[i].setFill(colors[i])\n",
    "\n",
    "liness = [[Line(teamPts[i],teamPts[j]) for j in range(i+1,numTeams)]\n",
    "    for i in range(numTeams - 1)]\n",
    "\n",
    "for lines in liness:\n",
    "    for line in lines:\n",
    "        line.setWidth(5)\n",
    "        line.setFill('grey')\n"
   ]
  },
  {
   "cell_type": "code",
   "execution_count": 14,
   "metadata": {
    "collapsed": false
   },
   "outputs": [],
   "source": [
    "win = GraphWin('Standings',size,size)\n",
    "\n",
    "for lines in liness:\n",
    "    for line in lines:\n",
    "        line.draw(win)\n",
    "for circle in teamCirc:\n",
    "    circle.draw(win)"
   ]
  },
  {
   "cell_type": "code",
   "execution_count": 15,
   "metadata": {
    "collapsed": true
   },
   "outputs": [],
   "source": [
    "win.close()"
   ]
  },
  {
   "cell_type": "code",
   "execution_count": null,
   "metadata": {
    "collapsed": false
   },
   "outputs": [],
   "source": [
    "liness"
   ]
  }
 ],
 "metadata": {
  "kernelspec": {
   "display_name": "Python 2",
   "language": "python",
   "name": "python2"
  },
  "language_info": {
   "codemirror_mode": {
    "name": "ipython",
    "version": 2
   },
   "file_extension": ".py",
   "mimetype": "text/x-python",
   "name": "python",
   "nbconvert_exporter": "python",
   "pygments_lexer": "ipython2",
   "version": "2.7.11"
  }
 },
 "nbformat": 4,
 "nbformat_minor": 0
}
